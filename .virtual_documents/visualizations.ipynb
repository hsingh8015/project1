# Import libraries
import matplotlib.pyplot as plt
import seaborn as sns
import numpy as np
import pandas as pd


# Load in csv
Temp_CO2_Merged = pd.read_csv('temp_co2_merged_data.csv')
Temp_CO2_Merged


# Set x axis and tick locations
x_axis = np.arange(len(Temp_CO2_Merged))
tick_locations = [value+0.4 for value in x_axis]


Temp_CO2_Merged.info()


# Define a function that finds the min and max in a row
def find_min_max_row(Temp_CO2_Merged, row_index):
    # Filter columns to include only those with "temp" in their names
    temp_columns = [col for col in Temp_CO2_Merged.columns if "temp" in col.lower()]

    # Initialize min and max with the first value of the filtered columns
    if temp_columns:
        min_val = Temp_CO2_Merged[temp_columns].iloc[row_index, 0]
        max_val = Temp_CO2_Merged[temp_columns].iloc[row_index, 0]
    else:
        return None, None  # Return None if no columns with "temp" are found

    # Loop through each value in the filtered columns
    for value in Temp_CO2_Merged[temp_columns].iloc[row_index]:
        if value < min_val:
            min_val = value
        if value > max_val:
            max_val = value

    return min_val, max_val
min_list = []
max_list = []
# Loop through the rows of the DataFrame
for row_index in Temp_CO2_Merged.index:
    # Find the min and max values for the row
    min_max = find_min_max_row(Temp_CO2_Merged, row_index)
    # Append the result to the min_maxlist
    # min_maxlist.append(min_max)
    min_list.append(min_max[0])
    max_list.append(min_max[1])
min_list


max_list


Temp_CO2_Merged['Temp_min'] = min_list
Temp_CO2_Merged


Temp_CO2_Merged['Temp_max'] = max_list
Temp_CO2_Merged


Temp_CO2_Merged['Temp_difference'] = Temp_CO2_Merged['Temp_max'] - Temp_CO2_Merged['Temp_min']
Temp_CO2_Merged


# df_sorted = Temp_CO2_Merged.sort_values(by='Temp_difference', ascending=False)
# df_sorted


Pareto_df  = Temp_CO2_Merged[['Country' , 'Temp_difference']].copy()
Pareto_df

df_sorted = Pareto_df.sort_values(by='Temp_difference', ascending=False)
df_sorted


# Which country had the highest change in Temperature
# Plot a bar chart
plt.figure(figsize=(20,5))
plt.bar(x_axis, df_sorted["Temp_difference"], color='b', align="edge")
plt.xticks(tick_locations, df_sorted["Country"], rotation="vertical")
plt.title("Min/Max Difference in Temperature by Country 1995-2020")
plt.xlabel("Country")
plt.ylabel("Degrees F")
plt.show()



avg_temp_per_continent = Temp_CO2_Merged.groupby(['Continent'])['Temp_difference'].mean().reset_index()
avg_temp_per_continent


# plt.figure(figsize=(20,5))
# plt.bar(x_axis, avg_temp_per_continent["Temp_difference"], color='b', align="edge")
# plt.xticks(tick_locations, avg_temp_per_continent["Continent"], rotation="vertical")

# avg_temp_per_continent.plot(kind = 'bar', y=')

bar_chart = avg_temp_per_continent.plot(kind='bar', x='Continent', figsize=(10, 6))

# Set the title and labels
bar_chart.set_title("Temp Difference by Continent")
bar_chart.set_xlabel("Continent")
bar_chart.set_ylabel("Temp Difference")

# Show the bar chart
bar_chart








def find_min_max_row_co2(Temp_CO2_Merged, row_index2):
    
    # Filter columns to include only those with "CO2" in their names
    co2_columns = [col2 for col2 in Temp_CO2_Merged.columns if "CO2_" in col2.upper()]
    # print(co2_columns)
    # Initialize min and max with None
    min_val2 = 99999999
    max_val2 = 0

    # Check if there are any CO2 columns
    if co2_columns:        
        # Loop through each value in the filtered columns
        for value2 in Temp_CO2_Merged[co2_columns].iloc[row_index2]:
            if value2 == None:
                continue
            if value2 < min_val2:
                min_val2 = value2
            if value2 > max_val2:
                max_val2 = value2
    return min_val2, max_val2
    
min_co2_list2 = []
max_co2_list2 = []

# Loop through the rows of the DataFrame
for row_index2 in Temp_CO2_Merged.index:
    # Find the min and max values for the row
    min_max2 = find_min_max_row_co2(Temp_CO2_Merged, row_index2)
    # Append the result to the min_co2_list and max_co2_list
    min_co2_list2.append(min_max2[0])
    max_co2_list2.append(min_max2[1])
print(min_co2_list2)
print(max_co2_list2)


#add the min/max CO2 columns to the df
Temp_CO2_Merged['CO2_min'] = min_co2_list2
Temp_CO2_Merged['CO2_max'] = max_co2_list2

# create a column for the C02 min/max diff
Temp_CO2_Merged['CO2_difference'] = Temp_CO2_Merged['CO2_max'] - Temp_CO2_Merged['CO2_min']

Temp_CO2_Merged








Pareto_df  = Temp_CO2_Merged[['Country' , 'CO2_difference']].copy()
df_sorted2 = Pareto_df.sort_values(by='CO2_difference', ascending=False)
df_sorted2





# Which country had the highest change in CO2
# Plot a bar chart
plt.figure(figsize=(20,5))
plt.bar(x_axis, df_sorted2["CO2_difference"], color='g', align="edge")
plt.xticks(tick_locations, df_sorted2["Country"], rotation="vertical")
plt.title("Min/Max Difference in CO2 by Country 1995-2020")
plt.xlabel("Country")
plt.ylabel("Metric Tons Per Capita")
plt.show()


#Kadon's working this
# df_pivot = Temp_CO2_Merged.pivot(index='Year', columns='Continent', values='YearlyAvgTemperature')
# # Plot
# df_pivot.plot(kind='line', figsize=(10, 6))
# plt.title('Average Temperature Over Time by Continent')
# plt.xlabel('Year')
# plt.ylabel('Average Temperature')
# plt.legend(title='Country')
# plt.grid(True)
# plt.show()


# Which year saw the greatest increase in temp, in CO2
# Temp_CO2_Merged['Temp_diff'] = Temp_CO2_Merged['Temp_difference'].diff()

# # Calculate year-over-year differences for temperature
# Temp_CO2_Merged['Temp_diff'] = Temp_CO2_Merged['Temp_difference'].diff()
# # Melt the DataFrame to get CO2 levels in a single column
# co2_columns = [col for col in Temp_CO2_Merged.columns if "CO2" in col]
# Temp_CO2_Merged_melted = Temp_CO2_Merged.melt(id_vars=['Year', 'Temp_difference', 'Temp_diff'],
#                                               value_vars=co2_columns,
#                                               var_name='CO2_Year',
#                                               value_name='CO2')
# # Drop rows with NaN values in the CO2 column
# Temp_CO2_Merged_melted = Temp_CO2_Merged_melted.dropna(subset=['CO2'])
# # Calculate year-over-year differences for CO2
# Temp_CO2_Merged_melted['CO2_diff'] = Temp_CO2_Merged_melted['CO2'].diff()
# # Find the year with the greatest increase in temperature
# max_temp_increase_year = Temp_CO2_Merged.loc[Temp_CO2_Merged['Temp_diff'].idxmax(), 'Year']
# # Find the year with the greatest increase in CO2
# max_co2_increase_year = Temp_CO2_Merged_melted.loc[Temp_CO2_Merged_melted['CO2_diff'].idxmax(), 'Year']
# max_temp_increase_year, max_co2_increase_year

# determine the difference by year

# loop through the temp columns


# Rate of increase across all countries for both CO2 and Temp


# Comparison of countries to “World”


# Africa to Europe (land mass sq ft/ CO2)


# Compare North America to Europe ( land mass sq ft/ CO2)


# see if there is a temp/CO2 correlation

Temp_CO2_Merged.drop(['Continent', 'Country', 'Temp_min', 'Temp_max', 'Temp_difference', 'CO2_min', 'CO2_max', 'CO2_difference'], axis=1, inplace=True)
display(Temp_CO2_Merged)
correlation_matrix = Temp_CO2_Merged.corr()

# Create a heatmap of the correlation matrix using Seaborn:
plt.figure(figsize=(10, 8))
sns.heatmap(correlation_matrix, annot=True, cmap='coolwarm', fmt=".2f")
plt.title('Correlation Heatmap')
plt.show()








#create a scatter plot
plt.figure(figsize=(8, 6))
plt.scatter(Temp_CO2_Merged.index, Temp_CO2_Merged['Temp_increase'], color='blue', alpha=0.6)  # Scatter plot with index on x-axis and Temp_increase on y-axis
plt.xlabel('Index')
plt.ylabel('Temperature Increase')
plt.title('Scatter Plot of Temperature Increase Over Years')
plt.grid(True)
plt.show()
