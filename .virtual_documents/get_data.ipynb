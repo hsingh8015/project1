# Import Libraries 
import pandas as pd


# Read the CSV files into DataFrames.
#temp_df = pd.read_csv('temp_data.csv')
temp2_df = pd.read_csv('country_yearly_avg_temp.csv')
co2_df = pd.read_csv('co2_data.csv', header=2)
co2_df2 = co2_df
continents_df = pd.read_csv('continent_data.csv')


# Display the co2 DataFrame
co2_df


# Rename the column 
co2_df.rename(columns={'Country Name': 'Country'}, inplace=True)
co2_df.columns


# Display the temp DataFrame
#temp_df
# Pivot the temp2_df to convert it from long to wide format
temp_df = temp2_df.pivot(index='Country', columns='Year', values='YearlyAvgTemperature')

# Reset the index to make 'Country' a column again
temp_df = temp_df.reset_index()

# Display the wide format DataFrame
temp_df


# Display the continent DataFrame
continents_df


# Check the temp data types.
temp_df.info()


co2_df.info()


# Drop columns of NaN from co2_df
co2_df.dropna(axis=1, how='all', inplace=True)

# Drop 'Country Code' and 'Indicator Name' columns
co2_df.drop(columns=['Country Code', 'Indicator Name', 'Indicator Code'], inplace=True)

# print the dataframe
co2_df.columns


# Drop columns 1990-1994 from the CO2 DataFrame, to match the Temp data
co2_df = co2_df.drop(columns=['1990', '1991', '1992', '1993', '1994'])

# Set the 'Country' column to index, to isolate rows with all NaN values 
co2_df.set_index('Country', inplace=True)

# drop rows of NaN fro co2_df
co2_df.dropna(axis=0, how='all', inplace=True)

co2_df.tail()


# Rename the columns in co2_df
for cols in co2_df.columns:
    if cols.isdigit():  # Check if the column name is a year (consists of digits)
        new_col = 'CO2_' + cols
        co2_df.rename(columns={cols: new_col}, inplace=True)

co2_df.columns


# Drop columns ISO2 from temp_df
#temp_df.drop(columns='ISO2', inplace=True)

# Rename the columns in temp_df
# Loop through the columns
for col in temp_df.columns:

    #add "Temp_" to the column name
    new_col = lambda x, col=col: 'Temp_' + str(col)
    temp_df.rename(columns={col: new_col(col)}, inplace=True)

    # Update the columns that start with "F" 
    #if col.startswith('F'):

        # Extract the year by removing the first character 'F'
        #year = int(col[1:]) 

        # Drop any columns that are outside of range (ie, not from 1990 to 2020)
        #if year < 1990 or year > 2020:
            #temp_df.drop(columns=col, inplace=True) 

        # For columns within range (ie, between 1990 adn 2020), replace column identifer "F" with "Temp_"
        #else:
            #new_col = col.replace('F', 'Temp_')
            #temp_df.rename(columns={col: new_col}, inplace=True)

# Rename column in df from 'Temp_Temp_Country' to 'Country'
temp_df.rename(columns={'Temp_Country': 'Country'}, inplace=True)  

# Print columns
temp_df.columns


# Combine the co2_df and temp_df DataFrames on the 'Country' column.
merged_df = pd.merge(temp_df, co2_df, on='Country', how='inner')
merged_df = pd.merge(continents_df, merged_df, on='Country', how='right')
merged_df


# See what countries/data was excluded
matching_words = []
co2_exclusions = [] 
continents_exclusions = []

countries_df1 = set(temp_df['Country'])
countries_df2 = set(co2_df.index)
countries_df3 = set(continents_df['Country'])
countries_df4 = set(merged_df['Country'])

unique_to_df1 = list(countries_df1 - countries_df4)
unique_to_df2 = list(countries_df2 - countries_df4)
unique_to_df3 = list(countries_df3 - countries_df4)

# Compare each word in list1 to list2
for word1 in unique_to_df1:
    if word1 in unique_to_df3:
        matching_words.append(word1)
matching_words
#filtered_uniques_df1 = [word for word in unique_to_df1 if word.lower() != "of"]
#filtered_uniques_df1
#print(unique_to_df1)
#print(unique_to_df2)
#print(unique_to_df3)


# Save the merged DataFrame as a CSV
merged_df.to_csv("temp_co2_merged_data.csv", encoding="utf-8", index=False)


# Reshape the DataFrame from wide to long format
print(co2_df2)
co2_df_long = pd.melt(co2_df2,
                  id_vars=['Country Name', 'Country Code', 'Indicator Name', 'Indicator Code'],
                  var_name='Year',
                  value_name='CO2 emissions (metric tons per capita)')
# Drop rows with NaN values in the CO2 emissions column
co2_df_long.dropna(subset=['CO2 emissions (metric tons per capita)'], inplace=True)
# Convert 'Year' column to integer
co2_df_long['Year'] = co2_df_long['Year'].astype(int)
# Filter the DataFrame to include only the years between 1995 and 2020
df_filtered = co2_df_long[(co2_df_long['Year'] >= 1995) & (co2_df_long['Year'] <= 2020)]
# Rename columns for clarity
df_filtered.rename(columns={'Country Name': 'Country'}, inplace=True)
df_filtered.tail()



